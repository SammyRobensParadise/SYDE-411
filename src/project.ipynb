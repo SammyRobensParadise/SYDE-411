{
 "cells": [
  {
   "cell_type": "markdown",
   "metadata": {},
   "source": [
    "# SYDE 411 Optimization Project\n",
    "\n",
    "## Team members:\n",
    "\n",
    "- Sammy Robens-Paradise, 20709541\n",
    "- Wassim Maj , 21048694\n",
    "- Tim He, 20779429\n",
    "- <full_name> , <student_number>\n"
   ]
  },
  {
   "cell_type": "markdown",
   "metadata": {},
   "source": [
    "## Import Dependencies\n",
    "\n",
    "Dependencies are `numpy` `matplotlib` and `scipy`. You can install both dependencies (assuming you have `Python >= 3` ) using pip:\n",
    "\n",
    "- `pip install numpy`\n",
    "- `pip install matplotlib`\n",
    "- `pip install scipy`\n"
   ]
  },
  {
   "cell_type": "code",
   "execution_count": 55,
   "metadata": {},
   "outputs": [],
   "source": [
    "import numpy as np\n",
    "import matplotlib.pyplot as plt\n",
    "import scipy\n",
    "import pulp\n",
    "\n",
    "np.random.seed(18945)\n",
    "# Some formating options\n",
    "%config InlineBackend.figure_formats = ['svg']"
   ]
  },
  {
   "cell_type": "markdown",
   "metadata": {},
   "source": [
    "## Problem Definition\n",
    "\n",
    "The problem will be formulated as follows: Given 1 bus with a maximum capacity, $m$, we want to minimize the distance that the bus has to travel to $n$ locations (nodes) to pick up a total number of $P$ people where there are $p$ individual people located at each n location and drive the people to a central location c. Given the constraint of the bus size, this means that if $P \\gt m$ the bus will need to pass through the central location $c$ more than 2 times (once leaving and once arriving) to go back out and collect the remaining people. Our objective function is to minimize the total distance travelled, which is in turn a function of the distance to each location, and the number of people at each location. It is constrained by the maximum bus capacity, $m$.\n",
    "\n",
    "This problem has applications in shuttle bus schedules, especially in the tourist industry where it is often required to bring people from a number of different locations back to one central location (such as an event).\n"
   ]
  },
  {
   "cell_type": "markdown",
   "metadata": {},
   "source": [
    "## Seeding Test Data\n",
    "\n",
    "The first thing we need to do is create a function that will _seed_ test data so that we can have sudo-random data generated while also having repeatable and verifiable results. We are going to do this by creating a $n\\times n\\times p$ matrix where $n$ is the number of _nodes_ that are present in the data model. This means that for every node, we are also calculating the distance to each other node when we create our test data.\n",
    "\n",
    "### Assumptions in The Data Model\n",
    "\n",
    "We are assuming that all distances are in meters. We will assume that all of our locations exist within a $1000 \\times 1000$-meter grid where each location is a distance of at least 1 meter away from another location, and no two locations have the same coordinate.\n"
   ]
  },
  {
   "cell_type": "code",
   "execution_count": 56,
   "metadata": {},
   "outputs": [],
   "source": [
    "# delare constants to seed the data model\n",
    "\n",
    "NUM_LOCATIONS = 10\n",
    "NUM_LOCATIONS = 100\n",
    "VEHICLE_CAPACITY = 10\n",
    "VEHICLES = 2\n",
    "GRID_SIZE = {\"x\": 1000, \"y\": 1000}\n",
    "SEED = 18945\n",
    "\n",
    "\n",
    "# possible distances are\n",
    "# - \"manhattan\"\n",
    "# - \"euclidean\"\n",
    "# - \"chebyshev\"\n",
    "DISTANCE_METHOD = \"manhattan\"\n",
    "\n",
    "\n",
    "def distance(\n",
    "    p1,\n",
    "    p2,\n",
    "    method=\"manhattan\",\n",
    "):\n",
    "    # make sure that the distance is between only a coordinate\n",
    "    assert len(p1) == len(p2) == 2\n",
    "    x1 = p1[0]\n",
    "    y1 = p1[1]\n",
    "    x2 = p2[0]\n",
    "    y2 = p2[1]\n",
    "\n",
    "    d = 0\n",
    "    # if the locations are the same then we can automatically say the distance is 0\n",
    "    if x1 == x2 and y1 == y2:\n",
    "        return d\n",
    "    if method == \"manhattan\":\n",
    "        d = np.absolute(x1 - x2) + np.absolute(y1 - y2)\n",
    "    if method == \"euclidean\":\n",
    "        d = np.sqrt(np.power(x2 - x1, 2) + np.power(y2 - y1, 2))\n",
    "    if method == \"chebyshev\":\n",
    "        d = np.max([np.absolute(x2 - x1), np.absolute(y2 - y1)])\n",
    "    return d\n",
    "\n",
    "\n",
    "def generate_data(\n",
    "    num_locations=NUM_LOCATIONS,\n",
    "    num_people=NUM_LOCATIONS,\n",
    "    grid_size=GRID_SIZE,\n",
    "    plot_grid=False,\n",
    "    seed=None,\n",
    "    distance_method=\"manhattan\",\n",
    "):\n",
    "    # seed our data so that we have reproducable data\n",
    "    if seed != None:\n",
    "        np.random.seed(seed)\n",
    "    locations = []\n",
    "    for _ in range(num_locations):\n",
    "        x_coord = np.random.randint(0, grid_size[\"x\"])\n",
    "        y_coord = np.random.randint(0, grid_size[\"y\"])\n",
    "        node_coord = [x_coord, y_coord]\n",
    "        locations.append(node_coord)\n",
    "\n",
    "    locations = np.array(locations)\n",
    "\n",
    "    if plot_grid == True:\n",
    "        plt.figure()\n",
    "        plt.suptitle(\"Scatter plot of locations\")\n",
    "        plt.grid()\n",
    "        plt.scatter(locations[:, 0], locations[:, 1])\n",
    "        plt.xlabel(\"$x$ m\")\n",
    "        plt.ylabel(\"$y$ m\")\n",
    "        plt.xlim([0, grid_size[\"x\"]])\n",
    "        plt.ylim([0, grid_size[\"y\"]])\n",
    "        plt.show()\n",
    "\n",
    "    location_data = []\n",
    "    for c1 in locations:\n",
    "        distances = []\n",
    "        for c2 in locations:\n",
    "            d = distance(c1, c2, method=distance_method)\n",
    "            distances.append(d)\n",
    "        location_data.append(distances)\n",
    "\n",
    "    return np.array(location_data)\n",
    "\n",
    "\n",
    "def generate_problem(title=\"cap_vehicle_routing_roblem\"):\n",
    "    return pulp.LpProblem(title, pulp.LpMinimize)\n",
    "\n",
    "\n",
    "def generate_x(vehicles=VEHICLES, num_people=NUM_LOCATIONS):\n",
    "    return [\n",
    "        [\n",
    "            [\n",
    "                pulp.LpVariable(\"x%s_%s,%s\" % (i, j, k), cat=\"Binary\")\n",
    "                if i != j\n",
    "                else None\n",
    "                for k in range(vehicles)\n",
    "            ]\n",
    "            for j in range(num_people)\n",
    "        ]\n",
    "        for i in range(num_people)\n",
    "    ]\n",
    "\n",
    "\n",
    "def add_objective_function(\n",
    "    problem, x, locations, vehicles=VEHICLES, num_locations=NUM_LOCATIONS\n",
    "):\n",
    "    problem += pulp.lpSum(\n",
    "        locations[i][j] * x[i][j][k] if i != j else 0\n",
    "        for k in range(vehicles)\n",
    "        for j in range(num_locations)\n",
    "        for i in range(num_locations)\n",
    "    )\n",
    "    return problem"
   ]
  },
  {
   "cell_type": "code",
   "execution_count": 57,
   "metadata": {},
   "outputs": [
    {
     "data": {
      "image/svg+xml": "<?xml version=\"1.0\" encoding=\"utf-8\" standalone=\"no\"?>\n<!DOCTYPE svg PUBLIC \"-//W3C//DTD SVG 1.1//EN\"\n  \"http://www.w3.org/Graphics/SVG/1.1/DTD/svg11.dtd\">\n<svg xmlns:xlink=\"http://www.w3.org/1999/xlink\" width=\"408.053125pt\" height=\"290.99625pt\" viewBox=\"0 0 408.053125 290.99625\" xmlns=\"http://www.w3.org/2000/svg\" version=\"1.1\">\n <metadata>\n  <rdf:RDF xmlns:dc=\"http://purl.org/dc/elements/1.1/\" xmlns:cc=\"http://creativecommons.org/ns#\" xmlns:rdf=\"http://www.w3.org/1999/02/22-rdf-syntax-ns#\">\n   <cc:Work>\n    <dc:type rdf:resource=\"http://purl.org/dc/dcmitype/StillImage\"/>\n    <dc:date>2022-11-24T19:53:55.643969</dc:date>\n    <dc:format>image/svg+xml</dc:format>\n    <dc:creator>\n     <cc:Agent>\n      <dc:title>Matplotlib v3.6.0, https://matplotlib.org/</dc:title>\n     </cc:Agent>\n    </dc:creator>\n   </cc:Work>\n  </rdf:RDF>\n </metadata>\n <defs>\n  <style type=\"text/css\">*{stroke-linejoin: round; stroke-linecap: butt}</style>\n </defs>\n <g id=\"figure_1\">\n  <g id=\"patch_1\">\n   <path d=\"M 0 290.99625 \nL 408.053125 290.99625 \nL 408.053125 0 \nL 0 0 \nL 0 290.99625 \nz\n\" style=\"fill: none\"/>\n  </g>\n  <g id=\"axes_1\">\n   <g id=\"patch_2\">\n    <path d=\"M 53.328125 253.44 \nL 388.128125 253.44 \nL 388.128125 36 \nL 53.328125 36 \nz\n\" style=\"fill: #ffffff\"/>\n   </g>\n   <g id=\"PathCollection_1\">\n    <defs>\n     <path id=\"m0dbbf653bc\" d=\"M 0 3 \nC 0.795609 3 1.55874 2.683901 2.12132 2.12132 \nC 2.683901 1.55874 3 0.795609 3 0 \nC 3 -0.795609 2.683901 -1.55874 2.12132 -2.12132 \nC 1.55874 -2.683901 0.795609 -3 0 -3 \nC -0.795609 -3 -1.55874 -2.683901 -2.12132 -2.12132 \nC -2.683901 -1.55874 -3 -0.795609 -3 0 \nC -3 0.795609 -2.683901 1.55874 -2.12132 2.12132 \nC -1.55874 2.683901 -0.795609 3 0 3 \nz\n\" style=\"stroke: #1f77b4\"/>\n    </defs>\n    <g clip-path=\"url(#p42a973d13c)\">\n     <use xlink:href=\"#m0dbbf653bc\" x=\"243.494525\" y=\"135.15264\" style=\"fill: #1f77b4; stroke: #1f77b4\"/>\n     <use xlink:href=\"#m0dbbf653bc\" x=\"322.172525\" y=\"105.14592\" style=\"fill: #1f77b4; stroke: #1f77b4\"/>\n     <use xlink:href=\"#m0dbbf653bc\" x=\"64.041725\" y=\"36.65232\" style=\"fill: #1f77b4; stroke: #1f77b4\"/>\n     <use xlink:href=\"#m0dbbf653bc\" x=\"286.683725\" y=\"170.37792\" style=\"fill: #1f77b4; stroke: #1f77b4\"/>\n     <use xlink:href=\"#m0dbbf653bc\" x=\"226.084925\" y=\"221.47632\" style=\"fill: #1f77b4; stroke: #1f77b4\"/>\n     <use xlink:href=\"#m0dbbf653bc\" x=\"212.358125\" y=\"86.44608\" style=\"fill: #1f77b4; stroke: #1f77b4\"/>\n     <use xlink:href=\"#m0dbbf653bc\" x=\"385.784525\" y=\"218.6496\" style=\"fill: #1f77b4; stroke: #1f77b4\"/>\n     <use xlink:href=\"#m0dbbf653bc\" x=\"370.048925\" y=\"110.79936\" style=\"fill: #1f77b4; stroke: #1f77b4\"/>\n     <use xlink:href=\"#m0dbbf653bc\" x=\"251.194925\" y=\"177.98832\" style=\"fill: #1f77b4; stroke: #1f77b4\"/>\n     <use xlink:href=\"#m0dbbf653bc\" x=\"291.370925\" y=\"133.63056\" style=\"fill: #1f77b4; stroke: #1f77b4\"/>\n     <use xlink:href=\"#m0dbbf653bc\" x=\"306.102125\" y=\"206.25552\" style=\"fill: #1f77b4; stroke: #1f77b4\"/>\n     <use xlink:href=\"#m0dbbf653bc\" x=\"146.067725\" y=\"159.07104\" style=\"fill: #1f77b4; stroke: #1f77b4\"/>\n     <use xlink:href=\"#m0dbbf653bc\" x=\"220.393325\" y=\"161.24544\" style=\"fill: #1f77b4; stroke: #1f77b4\"/>\n     <use xlink:href=\"#m0dbbf653bc\" x=\"362.348525\" y=\"224.52048\" style=\"fill: #1f77b4; stroke: #1f77b4\"/>\n     <use xlink:href=\"#m0dbbf653bc\" x=\"200.640125\" y=\"116.4528\" style=\"fill: #1f77b4; stroke: #1f77b4\"/>\n     <use xlink:href=\"#m0dbbf653bc\" x=\"182.226125\" y=\"69.92064\" style=\"fill: #1f77b4; stroke: #1f77b4\"/>\n     <use xlink:href=\"#m0dbbf653bc\" x=\"80.781725\" y=\"108.8424\" style=\"fill: #1f77b4; stroke: #1f77b4\"/>\n     <use xlink:href=\"#m0dbbf653bc\" x=\"90.490925\" y=\"146.45952\" style=\"fill: #1f77b4; stroke: #1f77b4\"/>\n     <use xlink:href=\"#m0dbbf653bc\" x=\"110.578925\" y=\"201.03696\" style=\"fill: #1f77b4; stroke: #1f77b4\"/>\n     <use xlink:href=\"#m0dbbf653bc\" x=\"333.555725\" y=\"195.60096\" style=\"fill: #1f77b4; stroke: #1f77b4\"/>\n     <use xlink:href=\"#m0dbbf653bc\" x=\"178.543325\" y=\"66.65904\" style=\"fill: #1f77b4; stroke: #1f77b4\"/>\n     <use xlink:href=\"#m0dbbf653bc\" x=\"94.173725\" y=\"59.04864\" style=\"fill: #1f77b4; stroke: #1f77b4\"/>\n     <use xlink:href=\"#m0dbbf653bc\" x=\"114.931325\" y=\"86.44608\" style=\"fill: #1f77b4; stroke: #1f77b4\"/>\n     <use xlink:href=\"#m0dbbf653bc\" x=\"125.644925\" y=\"39.2616\" style=\"fill: #1f77b4; stroke: #1f77b4\"/>\n     <use xlink:href=\"#m0dbbf653bc\" x=\"125.310125\" y=\"177.77088\" style=\"fill: #1f77b4; stroke: #1f77b4\"/>\n     <use xlink:href=\"#m0dbbf653bc\" x=\"162.138125\" y=\"101.232\" style=\"fill: #1f77b4; stroke: #1f77b4\"/>\n     <use xlink:href=\"#m0dbbf653bc\" x=\"62.367725\" y=\"168.85584\" style=\"fill: #1f77b4; stroke: #1f77b4\"/>\n     <use xlink:href=\"#m0dbbf653bc\" x=\"367.035725\" y=\"129.71664\" style=\"fill: #1f77b4; stroke: #1f77b4\"/>\n     <use xlink:href=\"#m0dbbf653bc\" x=\"187.248125\" y=\"124.0632\" style=\"fill: #1f77b4; stroke: #1f77b4\"/>\n     <use xlink:href=\"#m0dbbf653bc\" x=\"73.416125\" y=\"227.12976\" style=\"fill: #1f77b4; stroke: #1f77b4\"/>\n     <use xlink:href=\"#m0dbbf653bc\" x=\"345.943325\" y=\"140.3712\" style=\"fill: #1f77b4; stroke: #1f77b4\"/>\n     <use xlink:href=\"#m0dbbf653bc\" x=\"306.102125\" y=\"62.74512\" style=\"fill: #1f77b4; stroke: #1f77b4\"/>\n     <use xlink:href=\"#m0dbbf653bc\" x=\"111.918125\" y=\"213.43104\" style=\"fill: #1f77b4; stroke: #1f77b4\"/>\n     <use xlink:href=\"#m0dbbf653bc\" x=\"214.032125\" y=\"224.95536\" style=\"fill: #1f77b4; stroke: #1f77b4\"/>\n     <use xlink:href=\"#m0dbbf653bc\" x=\"214.366925\" y=\"152.3304\" style=\"fill: #1f77b4; stroke: #1f77b4\"/>\n     <use xlink:href=\"#m0dbbf653bc\" x=\"324.850925\" y=\"188.208\" style=\"fill: #1f77b4; stroke: #1f77b4\"/>\n     <use xlink:href=\"#m0dbbf653bc\" x=\"343.934525\" y=\"206.03808\" style=\"fill: #1f77b4; stroke: #1f77b4\"/>\n     <use xlink:href=\"#m0dbbf653bc\" x=\"333.890525\" y=\"163.2024\" style=\"fill: #1f77b4; stroke: #1f77b4\"/>\n     <use xlink:href=\"#m0dbbf653bc\" x=\"141.380525\" y=\"78.83568\" style=\"fill: #1f77b4; stroke: #1f77b4\"/>\n     <use xlink:href=\"#m0dbbf653bc\" x=\"98.191325\" y=\"252.3528\" style=\"fill: #1f77b4; stroke: #1f77b4\"/>\n     <use xlink:href=\"#m0dbbf653bc\" x=\"357.661325\" y=\"68.18112\" style=\"fill: #1f77b4; stroke: #1f77b4\"/>\n     <use xlink:href=\"#m0dbbf653bc\" x=\"56.676125\" y=\"163.63728\" style=\"fill: #1f77b4; stroke: #1f77b4\"/>\n     <use xlink:href=\"#m0dbbf653bc\" x=\"129.327725\" y=\"41.436\" style=\"fill: #1f77b4; stroke: #1f77b4\"/>\n     <use xlink:href=\"#m0dbbf653bc\" x=\"179.882525\" y=\"160.37568\" style=\"fill: #1f77b4; stroke: #1f77b4\"/>\n     <use xlink:href=\"#m0dbbf653bc\" x=\"379.423325\" y=\"58.17888\" style=\"fill: #1f77b4; stroke: #1f77b4\"/>\n     <use xlink:href=\"#m0dbbf653bc\" x=\"62.367725\" y=\"128.19456\" style=\"fill: #1f77b4; stroke: #1f77b4\"/>\n     <use xlink:href=\"#m0dbbf653bc\" x=\"221.732525\" y=\"56.00448\" style=\"fill: #1f77b4; stroke: #1f77b4\"/>\n     <use xlink:href=\"#m0dbbf653bc\" x=\"271.617725\" y=\"206.03808\" style=\"fill: #1f77b4; stroke: #1f77b4\"/>\n     <use xlink:href=\"#m0dbbf653bc\" x=\"214.701725\" y=\"212.99616\" style=\"fill: #1f77b4; stroke: #1f77b4\"/>\n     <use xlink:href=\"#m0dbbf653bc\" x=\"170.842925\" y=\"118.6272\" style=\"fill: #1f77b4; stroke: #1f77b4\"/>\n     <use xlink:href=\"#m0dbbf653bc\" x=\"64.376525\" y=\"147.9816\" style=\"fill: #1f77b4; stroke: #1f77b4\"/>\n     <use xlink:href=\"#m0dbbf653bc\" x=\"127.318925\" y=\"184.51152\" style=\"fill: #1f77b4; stroke: #1f77b4\"/>\n     <use xlink:href=\"#m0dbbf653bc\" x=\"300.075725\" y=\"147.11184\" style=\"fill: #1f77b4; stroke: #1f77b4\"/>\n     <use xlink:href=\"#m0dbbf653bc\" x=\"82.120925\" y=\"231.696\" style=\"fill: #1f77b4; stroke: #1f77b4\"/>\n     <use xlink:href=\"#m0dbbf653bc\" x=\"263.917325\" y=\"94.92624\" style=\"fill: #1f77b4; stroke: #1f77b4\"/>\n     <use xlink:href=\"#m0dbbf653bc\" x=\"203.988125\" y=\"236.91456\" style=\"fill: #1f77b4; stroke: #1f77b4\"/>\n     <use xlink:href=\"#m0dbbf653bc\" x=\"207.001325\" y=\"212.56128\" style=\"fill: #1f77b4; stroke: #1f77b4\"/>\n     <use xlink:href=\"#m0dbbf653bc\" x=\"149.750525\" y=\"244.7424\" style=\"fill: #1f77b4; stroke: #1f77b4\"/>\n     <use xlink:href=\"#m0dbbf653bc\" x=\"247.177325\" y=\"160.81056\" style=\"fill: #1f77b4; stroke: #1f77b4\"/>\n     <use xlink:href=\"#m0dbbf653bc\" x=\"341.590925\" y=\"75.57408\" style=\"fill: #1f77b4; stroke: #1f77b4\"/>\n     <use xlink:href=\"#m0dbbf653bc\" x=\"61.363325\" y=\"67.09392\" style=\"fill: #1f77b4; stroke: #1f77b4\"/>\n     <use xlink:href=\"#m0dbbf653bc\" x=\"236.128925\" y=\"175.81392\" style=\"fill: #1f77b4; stroke: #1f77b4\"/>\n     <use xlink:href=\"#m0dbbf653bc\" x=\"243.494525\" y=\"233.8704\" style=\"fill: #1f77b4; stroke: #1f77b4\"/>\n     <use xlink:href=\"#m0dbbf653bc\" x=\"172.851725\" y=\"220.17168\" style=\"fill: #1f77b4; stroke: #1f77b4\"/>\n     <use xlink:href=\"#m0dbbf653bc\" x=\"344.269325\" y=\"133.41312\" style=\"fill: #1f77b4; stroke: #1f77b4\"/>\n     <use xlink:href=\"#m0dbbf653bc\" x=\"254.542925\" y=\"102.75408\" style=\"fill: #1f77b4; stroke: #1f77b4\"/>\n     <use xlink:href=\"#m0dbbf653bc\" x=\"335.229725\" y=\"215.388\" style=\"fill: #1f77b4; stroke: #1f77b4\"/>\n     <use xlink:href=\"#m0dbbf653bc\" x=\"171.847325\" y=\"139.50144\" style=\"fill: #1f77b4; stroke: #1f77b4\"/>\n     <use xlink:href=\"#m0dbbf653bc\" x=\"126.649325\" y=\"143.6328\" style=\"fill: #1f77b4; stroke: #1f77b4\"/>\n     <use xlink:href=\"#m0dbbf653bc\" x=\"125.644925\" y=\"144.06768\" style=\"fill: #1f77b4; stroke: #1f77b4\"/>\n     <use xlink:href=\"#m0dbbf653bc\" x=\"78.438125\" y=\"45.13248\" style=\"fill: #1f77b4; stroke: #1f77b4\"/>\n     <use xlink:href=\"#m0dbbf653bc\" x=\"321.168125\" y=\"156.89664\" style=\"fill: #1f77b4; stroke: #1f77b4\"/>\n     <use xlink:href=\"#m0dbbf653bc\" x=\"264.921725\" y=\"63.18\" style=\"fill: #1f77b4; stroke: #1f77b4\"/>\n     <use xlink:href=\"#m0dbbf653bc\" x=\"333.220925\" y=\"53.83008\" style=\"fill: #1f77b4; stroke: #1f77b4\"/>\n     <use xlink:href=\"#m0dbbf653bc\" x=\"117.274925\" y=\"159.50592\" style=\"fill: #1f77b4; stroke: #1f77b4\"/>\n     <use xlink:href=\"#m0dbbf653bc\" x=\"77.433725\" y=\"212.56128\" style=\"fill: #1f77b4; stroke: #1f77b4\"/>\n     <use xlink:href=\"#m0dbbf653bc\" x=\"341.590925\" y=\"59.9184\" style=\"fill: #1f77b4; stroke: #1f77b4\"/>\n     <use xlink:href=\"#m0dbbf653bc\" x=\"306.436925\" y=\"240.61104\" style=\"fill: #1f77b4; stroke: #1f77b4\"/>\n     <use xlink:href=\"#m0dbbf653bc\" x=\"309.115325\" y=\"43.39296\" style=\"fill: #1f77b4; stroke: #1f77b4\"/>\n     <use xlink:href=\"#m0dbbf653bc\" x=\"280.657325\" y=\"201.68928\" style=\"fill: #1f77b4; stroke: #1f77b4\"/>\n     <use xlink:href=\"#m0dbbf653bc\" x=\"84.799325\" y=\"139.71888\" style=\"fill: #1f77b4; stroke: #1f77b4\"/>\n     <use xlink:href=\"#m0dbbf653bc\" x=\"199.300925\" y=\"69.48576\" style=\"fill: #1f77b4; stroke: #1f77b4\"/>\n     <use xlink:href=\"#m0dbbf653bc\" x=\"251.529725\" y=\"233.8704\" style=\"fill: #1f77b4; stroke: #1f77b4\"/>\n     <use xlink:href=\"#m0dbbf653bc\" x=\"164.816525\" y=\"142.5456\" style=\"fill: #1f77b4; stroke: #1f77b4\"/>\n     <use xlink:href=\"#m0dbbf653bc\" x=\"154.437725\" y=\"155.37456\" style=\"fill: #1f77b4; stroke: #1f77b4\"/>\n     <use xlink:href=\"#m0dbbf653bc\" x=\"90.825725\" y=\"77.09616\" style=\"fill: #1f77b4; stroke: #1f77b4\"/>\n     <use xlink:href=\"#m0dbbf653bc\" x=\"131.336525\" y=\"100.79712\" style=\"fill: #1f77b4; stroke: #1f77b4\"/>\n     <use xlink:href=\"#m0dbbf653bc\" x=\"199.300925\" y=\"40.56624\" style=\"fill: #1f77b4; stroke: #1f77b4\"/>\n     <use xlink:href=\"#m0dbbf653bc\" x=\"178.208525\" y=\"105.79824\" style=\"fill: #1f77b4; stroke: #1f77b4\"/>\n     <use xlink:href=\"#m0dbbf653bc\" x=\"237.802925\" y=\"244.95984\" style=\"fill: #1f77b4; stroke: #1f77b4\"/>\n     <use xlink:href=\"#m0dbbf653bc\" x=\"355.317725\" y=\"205.82064\" style=\"fill: #1f77b4; stroke: #1f77b4\"/>\n     <use xlink:href=\"#m0dbbf653bc\" x=\"219.723725\" y=\"168.20352\" style=\"fill: #1f77b4; stroke: #1f77b4\"/>\n     <use xlink:href=\"#m0dbbf653bc\" x=\"387.123725\" y=\"141.67584\" style=\"fill: #1f77b4; stroke: #1f77b4\"/>\n     <use xlink:href=\"#m0dbbf653bc\" x=\"230.437325\" y=\"169.07328\" style=\"fill: #1f77b4; stroke: #1f77b4\"/>\n     <use xlink:href=\"#m0dbbf653bc\" x=\"270.278525\" y=\"60.13584\" style=\"fill: #1f77b4; stroke: #1f77b4\"/>\n     <use xlink:href=\"#m0dbbf653bc\" x=\"334.225325\" y=\"176.03136\" style=\"fill: #1f77b4; stroke: #1f77b4\"/>\n     <use xlink:href=\"#m0dbbf653bc\" x=\"142.050125\" y=\"247.78656\" style=\"fill: #1f77b4; stroke: #1f77b4\"/>\n     <use xlink:href=\"#m0dbbf653bc\" x=\"212.358125\" y=\"219.51936\" style=\"fill: #1f77b4; stroke: #1f77b4\"/>\n     <use xlink:href=\"#m0dbbf653bc\" x=\"227.424125\" y=\"95.36112\" style=\"fill: #1f77b4; stroke: #1f77b4\"/>\n     <use xlink:href=\"#m0dbbf653bc\" x=\"353.978525\" y=\"248.87376\" style=\"fill: #1f77b4; stroke: #1f77b4\"/>\n    </g>\n   </g>\n   <g id=\"matplotlib.axis_1\">\n    <g id=\"xtick_1\">\n     <g id=\"line2d_1\">\n      <path d=\"M 53.328125 253.44 \nL 53.328125 36 \n\" clip-path=\"url(#p42a973d13c)\" style=\"fill: none; stroke: #b0b0b0; stroke-width: 0.8; stroke-linecap: square\"/>\n     </g>\n     <g id=\"line2d_2\">\n      <defs>\n       <path id=\"m223532a301\" d=\"M 0 0 \nL 0 3.5 \n\" style=\"stroke: #000000; stroke-width: 0.8\"/>\n      </defs>\n      <g>\n       <use xlink:href=\"#m223532a301\" x=\"53.328125\" y=\"253.44\" style=\"stroke: #000000; stroke-width: 0.8\"/>\n      </g>\n     </g>\n     <g id=\"text_1\">\n      <!-- 0 -->\n      <g transform=\"translate(50.146875 268.038437) scale(0.1 -0.1)\">\n       <defs>\n        <path id=\"DejaVuSans-30\" d=\"M 2034 4250 \nQ 1547 4250 1301 3770 \nQ 1056 3291 1056 2328 \nQ 1056 1369 1301 889 \nQ 1547 409 2034 409 \nQ 2525 409 2770 889 \nQ 3016 1369 3016 2328 \nQ 3016 3291 2770 3770 \nQ 2525 4250 2034 4250 \nz\nM 2034 4750 \nQ 2819 4750 3233 4129 \nQ 3647 3509 3647 2328 \nQ 3647 1150 3233 529 \nQ 2819 -91 2034 -91 \nQ 1250 -91 836 529 \nQ 422 1150 422 2328 \nQ 422 3509 836 4129 \nQ 1250 4750 2034 4750 \nz\n\" transform=\"scale(0.015625)\"/>\n       </defs>\n       <use xlink:href=\"#DejaVuSans-30\"/>\n      </g>\n     </g>\n    </g>\n    <g id=\"xtick_2\">\n     <g id=\"line2d_3\">\n      <path d=\"M 120.288125 253.44 \nL 120.288125 36 \n\" clip-path=\"url(#p42a973d13c)\" style=\"fill: none; stroke: #b0b0b0; stroke-width: 0.8; stroke-linecap: square\"/>\n     </g>\n     <g id=\"line2d_4\">\n      <g>\n       <use xlink:href=\"#m223532a301\" x=\"120.288125\" y=\"253.44\" style=\"stroke: #000000; stroke-width: 0.8\"/>\n      </g>\n     </g>\n     <g id=\"text_2\">\n      <!-- 200 -->\n      <g transform=\"translate(110.744375 268.038437) scale(0.1 -0.1)\">\n       <defs>\n        <path id=\"DejaVuSans-32\" d=\"M 1228 531 \nL 3431 531 \nL 3431 0 \nL 469 0 \nL 469 531 \nQ 828 903 1448 1529 \nQ 2069 2156 2228 2338 \nQ 2531 2678 2651 2914 \nQ 2772 3150 2772 3378 \nQ 2772 3750 2511 3984 \nQ 2250 4219 1831 4219 \nQ 1534 4219 1204 4116 \nQ 875 4013 500 3803 \nL 500 4441 \nQ 881 4594 1212 4672 \nQ 1544 4750 1819 4750 \nQ 2544 4750 2975 4387 \nQ 3406 4025 3406 3419 \nQ 3406 3131 3298 2873 \nQ 3191 2616 2906 2266 \nQ 2828 2175 2409 1742 \nQ 1991 1309 1228 531 \nz\n\" transform=\"scale(0.015625)\"/>\n       </defs>\n       <use xlink:href=\"#DejaVuSans-32\"/>\n       <use xlink:href=\"#DejaVuSans-30\" x=\"63.623047\"/>\n       <use xlink:href=\"#DejaVuSans-30\" x=\"127.246094\"/>\n      </g>\n     </g>\n    </g>\n    <g id=\"xtick_3\">\n     <g id=\"line2d_5\">\n      <path d=\"M 187.248125 253.44 \nL 187.248125 36 \n\" clip-path=\"url(#p42a973d13c)\" style=\"fill: none; stroke: #b0b0b0; stroke-width: 0.8; stroke-linecap: square\"/>\n     </g>\n     <g id=\"line2d_6\">\n      <g>\n       <use xlink:href=\"#m223532a301\" x=\"187.248125\" y=\"253.44\" style=\"stroke: #000000; stroke-width: 0.8\"/>\n      </g>\n     </g>\n     <g id=\"text_3\">\n      <!-- 400 -->\n      <g transform=\"translate(177.704375 268.038437) scale(0.1 -0.1)\">\n       <defs>\n        <path id=\"DejaVuSans-34\" d=\"M 2419 4116 \nL 825 1625 \nL 2419 1625 \nL 2419 4116 \nz\nM 2253 4666 \nL 3047 4666 \nL 3047 1625 \nL 3713 1625 \nL 3713 1100 \nL 3047 1100 \nL 3047 0 \nL 2419 0 \nL 2419 1100 \nL 313 1100 \nL 313 1709 \nL 2253 4666 \nz\n\" transform=\"scale(0.015625)\"/>\n       </defs>\n       <use xlink:href=\"#DejaVuSans-34\"/>\n       <use xlink:href=\"#DejaVuSans-30\" x=\"63.623047\"/>\n       <use xlink:href=\"#DejaVuSans-30\" x=\"127.246094\"/>\n      </g>\n     </g>\n    </g>\n    <g id=\"xtick_4\">\n     <g id=\"line2d_7\">\n      <path d=\"M 254.208125 253.44 \nL 254.208125 36 \n\" clip-path=\"url(#p42a973d13c)\" style=\"fill: none; stroke: #b0b0b0; stroke-width: 0.8; stroke-linecap: square\"/>\n     </g>\n     <g id=\"line2d_8\">\n      <g>\n       <use xlink:href=\"#m223532a301\" x=\"254.208125\" y=\"253.44\" style=\"stroke: #000000; stroke-width: 0.8\"/>\n      </g>\n     </g>\n     <g id=\"text_4\">\n      <!-- 600 -->\n      <g transform=\"translate(244.664375 268.038437) scale(0.1 -0.1)\">\n       <defs>\n        <path id=\"DejaVuSans-36\" d=\"M 2113 2584 \nQ 1688 2584 1439 2293 \nQ 1191 2003 1191 1497 \nQ 1191 994 1439 701 \nQ 1688 409 2113 409 \nQ 2538 409 2786 701 \nQ 3034 994 3034 1497 \nQ 3034 2003 2786 2293 \nQ 2538 2584 2113 2584 \nz\nM 3366 4563 \nL 3366 3988 \nQ 3128 4100 2886 4159 \nQ 2644 4219 2406 4219 \nQ 1781 4219 1451 3797 \nQ 1122 3375 1075 2522 \nQ 1259 2794 1537 2939 \nQ 1816 3084 2150 3084 \nQ 2853 3084 3261 2657 \nQ 3669 2231 3669 1497 \nQ 3669 778 3244 343 \nQ 2819 -91 2113 -91 \nQ 1303 -91 875 529 \nQ 447 1150 447 2328 \nQ 447 3434 972 4092 \nQ 1497 4750 2381 4750 \nQ 2619 4750 2861 4703 \nQ 3103 4656 3366 4563 \nz\n\" transform=\"scale(0.015625)\"/>\n       </defs>\n       <use xlink:href=\"#DejaVuSans-36\"/>\n       <use xlink:href=\"#DejaVuSans-30\" x=\"63.623047\"/>\n       <use xlink:href=\"#DejaVuSans-30\" x=\"127.246094\"/>\n      </g>\n     </g>\n    </g>\n    <g id=\"xtick_5\">\n     <g id=\"line2d_9\">\n      <path d=\"M 321.168125 253.44 \nL 321.168125 36 \n\" clip-path=\"url(#p42a973d13c)\" style=\"fill: none; stroke: #b0b0b0; stroke-width: 0.8; stroke-linecap: square\"/>\n     </g>\n     <g id=\"line2d_10\">\n      <g>\n       <use xlink:href=\"#m223532a301\" x=\"321.168125\" y=\"253.44\" style=\"stroke: #000000; stroke-width: 0.8\"/>\n      </g>\n     </g>\n     <g id=\"text_5\">\n      <!-- 800 -->\n      <g transform=\"translate(311.624375 268.038437) scale(0.1 -0.1)\">\n       <defs>\n        <path id=\"DejaVuSans-38\" d=\"M 2034 2216 \nQ 1584 2216 1326 1975 \nQ 1069 1734 1069 1313 \nQ 1069 891 1326 650 \nQ 1584 409 2034 409 \nQ 2484 409 2743 651 \nQ 3003 894 3003 1313 \nQ 3003 1734 2745 1975 \nQ 2488 2216 2034 2216 \nz\nM 1403 2484 \nQ 997 2584 770 2862 \nQ 544 3141 544 3541 \nQ 544 4100 942 4425 \nQ 1341 4750 2034 4750 \nQ 2731 4750 3128 4425 \nQ 3525 4100 3525 3541 \nQ 3525 3141 3298 2862 \nQ 3072 2584 2669 2484 \nQ 3125 2378 3379 2068 \nQ 3634 1759 3634 1313 \nQ 3634 634 3220 271 \nQ 2806 -91 2034 -91 \nQ 1263 -91 848 271 \nQ 434 634 434 1313 \nQ 434 1759 690 2068 \nQ 947 2378 1403 2484 \nz\nM 1172 3481 \nQ 1172 3119 1398 2916 \nQ 1625 2713 2034 2713 \nQ 2441 2713 2670 2916 \nQ 2900 3119 2900 3481 \nQ 2900 3844 2670 4047 \nQ 2441 4250 2034 4250 \nQ 1625 4250 1398 4047 \nQ 1172 3844 1172 3481 \nz\n\" transform=\"scale(0.015625)\"/>\n       </defs>\n       <use xlink:href=\"#DejaVuSans-38\"/>\n       <use xlink:href=\"#DejaVuSans-30\" x=\"63.623047\"/>\n       <use xlink:href=\"#DejaVuSans-30\" x=\"127.246094\"/>\n      </g>\n     </g>\n    </g>\n    <g id=\"xtick_6\">\n     <g id=\"line2d_11\">\n      <path d=\"M 388.128125 253.44 \nL 388.128125 36 \n\" clip-path=\"url(#p42a973d13c)\" style=\"fill: none; stroke: #b0b0b0; stroke-width: 0.8; stroke-linecap: square\"/>\n     </g>\n     <g id=\"line2d_12\">\n      <g>\n       <use xlink:href=\"#m223532a301\" x=\"388.128125\" y=\"253.44\" style=\"stroke: #000000; stroke-width: 0.8\"/>\n      </g>\n     </g>\n     <g id=\"text_6\">\n      <!-- 1000 -->\n      <g transform=\"translate(375.403125 268.038437) scale(0.1 -0.1)\">\n       <defs>\n        <path id=\"DejaVuSans-31\" d=\"M 794 531 \nL 1825 531 \nL 1825 4091 \nL 703 3866 \nL 703 4441 \nL 1819 4666 \nL 2450 4666 \nL 2450 531 \nL 3481 531 \nL 3481 0 \nL 794 0 \nL 794 531 \nz\n\" transform=\"scale(0.015625)\"/>\n       </defs>\n       <use xlink:href=\"#DejaVuSans-31\"/>\n       <use xlink:href=\"#DejaVuSans-30\" x=\"63.623047\"/>\n       <use xlink:href=\"#DejaVuSans-30\" x=\"127.246094\"/>\n       <use xlink:href=\"#DejaVuSans-30\" x=\"190.869141\"/>\n      </g>\n     </g>\n    </g>\n    <g id=\"text_7\">\n     <!-- $x$ m -->\n     <g transform=\"translate(211.278125 281.716562) scale(0.1 -0.1)\">\n      <defs>\n       <path id=\"DejaVuSans-Oblique-78\" d=\"M 3841 3500 \nL 2234 1784 \nL 3219 0 \nL 2559 0 \nL 1819 1388 \nL 531 0 \nL -166 0 \nL 1556 1844 \nL 641 3500 \nL 1300 3500 \nL 1972 2234 \nL 3144 3500 \nL 3841 3500 \nz\n\" transform=\"scale(0.015625)\"/>\n       <path id=\"DejaVuSans-20\" transform=\"scale(0.015625)\"/>\n       <path id=\"DejaVuSans-6d\" d=\"M 3328 2828 \nQ 3544 3216 3844 3400 \nQ 4144 3584 4550 3584 \nQ 5097 3584 5394 3201 \nQ 5691 2819 5691 2113 \nL 5691 0 \nL 5113 0 \nL 5113 2094 \nQ 5113 2597 4934 2840 \nQ 4756 3084 4391 3084 \nQ 3944 3084 3684 2787 \nQ 3425 2491 3425 1978 \nL 3425 0 \nL 2847 0 \nL 2847 2094 \nQ 2847 2600 2669 2842 \nQ 2491 3084 2119 3084 \nQ 1678 3084 1418 2786 \nQ 1159 2488 1159 1978 \nL 1159 0 \nL 581 0 \nL 581 3500 \nL 1159 3500 \nL 1159 2956 \nQ 1356 3278 1631 3431 \nQ 1906 3584 2284 3584 \nQ 2666 3584 2933 3390 \nQ 3200 3197 3328 2828 \nz\n\" transform=\"scale(0.015625)\"/>\n      </defs>\n      <use xlink:href=\"#DejaVuSans-Oblique-78\"/>\n      <use xlink:href=\"#DejaVuSans-20\" transform=\"translate(59.179688 0)\"/>\n      <use xlink:href=\"#DejaVuSans-6d\" transform=\"translate(90.966797 0)\"/>\n     </g>\n    </g>\n   </g>\n   <g id=\"matplotlib.axis_2\">\n    <g id=\"ytick_1\">\n     <g id=\"line2d_13\">\n      <path d=\"M 53.328125 253.44 \nL 388.128125 253.44 \n\" clip-path=\"url(#p42a973d13c)\" style=\"fill: none; stroke: #b0b0b0; stroke-width: 0.8; stroke-linecap: square\"/>\n     </g>\n     <g id=\"line2d_14\">\n      <defs>\n       <path id=\"mcd767172b1\" d=\"M 0 0 \nL -3.5 0 \n\" style=\"stroke: #000000; stroke-width: 0.8\"/>\n      </defs>\n      <g>\n       <use xlink:href=\"#mcd767172b1\" x=\"53.328125\" y=\"253.44\" style=\"stroke: #000000; stroke-width: 0.8\"/>\n      </g>\n     </g>\n     <g id=\"text_8\">\n      <!-- 0 -->\n      <g transform=\"translate(39.965625 257.239219) scale(0.1 -0.1)\">\n       <use xlink:href=\"#DejaVuSans-30\"/>\n      </g>\n     </g>\n    </g>\n    <g id=\"ytick_2\">\n     <g id=\"line2d_15\">\n      <path d=\"M 53.328125 209.952 \nL 388.128125 209.952 \n\" clip-path=\"url(#p42a973d13c)\" style=\"fill: none; stroke: #b0b0b0; stroke-width: 0.8; stroke-linecap: square\"/>\n     </g>\n     <g id=\"line2d_16\">\n      <g>\n       <use xlink:href=\"#mcd767172b1\" x=\"53.328125\" y=\"209.952\" style=\"stroke: #000000; stroke-width: 0.8\"/>\n      </g>\n     </g>\n     <g id=\"text_9\">\n      <!-- 200 -->\n      <g transform=\"translate(27.240625 213.751219) scale(0.1 -0.1)\">\n       <use xlink:href=\"#DejaVuSans-32\"/>\n       <use xlink:href=\"#DejaVuSans-30\" x=\"63.623047\"/>\n       <use xlink:href=\"#DejaVuSans-30\" x=\"127.246094\"/>\n      </g>\n     </g>\n    </g>\n    <g id=\"ytick_3\">\n     <g id=\"line2d_17\">\n      <path d=\"M 53.328125 166.464 \nL 388.128125 166.464 \n\" clip-path=\"url(#p42a973d13c)\" style=\"fill: none; stroke: #b0b0b0; stroke-width: 0.8; stroke-linecap: square\"/>\n     </g>\n     <g id=\"line2d_18\">\n      <g>\n       <use xlink:href=\"#mcd767172b1\" x=\"53.328125\" y=\"166.464\" style=\"stroke: #000000; stroke-width: 0.8\"/>\n      </g>\n     </g>\n     <g id=\"text_10\">\n      <!-- 400 -->\n      <g transform=\"translate(27.240625 170.263219) scale(0.1 -0.1)\">\n       <use xlink:href=\"#DejaVuSans-34\"/>\n       <use xlink:href=\"#DejaVuSans-30\" x=\"63.623047\"/>\n       <use xlink:href=\"#DejaVuSans-30\" x=\"127.246094\"/>\n      </g>\n     </g>\n    </g>\n    <g id=\"ytick_4\">\n     <g id=\"line2d_19\">\n      <path d=\"M 53.328125 122.976 \nL 388.128125 122.976 \n\" clip-path=\"url(#p42a973d13c)\" style=\"fill: none; stroke: #b0b0b0; stroke-width: 0.8; stroke-linecap: square\"/>\n     </g>\n     <g id=\"line2d_20\">\n      <g>\n       <use xlink:href=\"#mcd767172b1\" x=\"53.328125\" y=\"122.976\" style=\"stroke: #000000; stroke-width: 0.8\"/>\n      </g>\n     </g>\n     <g id=\"text_11\">\n      <!-- 600 -->\n      <g transform=\"translate(27.240625 126.775219) scale(0.1 -0.1)\">\n       <use xlink:href=\"#DejaVuSans-36\"/>\n       <use xlink:href=\"#DejaVuSans-30\" x=\"63.623047\"/>\n       <use xlink:href=\"#DejaVuSans-30\" x=\"127.246094\"/>\n      </g>\n     </g>\n    </g>\n    <g id=\"ytick_5\">\n     <g id=\"line2d_21\">\n      <path d=\"M 53.328125 79.488 \nL 388.128125 79.488 \n\" clip-path=\"url(#p42a973d13c)\" style=\"fill: none; stroke: #b0b0b0; stroke-width: 0.8; stroke-linecap: square\"/>\n     </g>\n     <g id=\"line2d_22\">\n      <g>\n       <use xlink:href=\"#mcd767172b1\" x=\"53.328125\" y=\"79.488\" style=\"stroke: #000000; stroke-width: 0.8\"/>\n      </g>\n     </g>\n     <g id=\"text_12\">\n      <!-- 800 -->\n      <g transform=\"translate(27.240625 83.287219) scale(0.1 -0.1)\">\n       <use xlink:href=\"#DejaVuSans-38\"/>\n       <use xlink:href=\"#DejaVuSans-30\" x=\"63.623047\"/>\n       <use xlink:href=\"#DejaVuSans-30\" x=\"127.246094\"/>\n      </g>\n     </g>\n    </g>\n    <g id=\"ytick_6\">\n     <g id=\"line2d_23\">\n      <path d=\"M 53.328125 36 \nL 388.128125 36 \n\" clip-path=\"url(#p42a973d13c)\" style=\"fill: none; stroke: #b0b0b0; stroke-width: 0.8; stroke-linecap: square\"/>\n     </g>\n     <g id=\"line2d_24\">\n      <g>\n       <use xlink:href=\"#mcd767172b1\" x=\"53.328125\" y=\"36\" style=\"stroke: #000000; stroke-width: 0.8\"/>\n      </g>\n     </g>\n     <g id=\"text_13\">\n      <!-- 1000 -->\n      <g transform=\"translate(20.878125 39.799219) scale(0.1 -0.1)\">\n       <use xlink:href=\"#DejaVuSans-31\"/>\n       <use xlink:href=\"#DejaVuSans-30\" x=\"63.623047\"/>\n       <use xlink:href=\"#DejaVuSans-30\" x=\"127.246094\"/>\n       <use xlink:href=\"#DejaVuSans-30\" x=\"190.869141\"/>\n      </g>\n     </g>\n    </g>\n    <g id=\"text_14\">\n     <!-- $y$ m -->\n     <g transform=\"translate(14.778125 154.17) rotate(-90) scale(0.1 -0.1)\">\n      <defs>\n       <path id=\"DejaVuSans-Oblique-79\" d=\"M 1588 -325 \nQ 1188 -997 936 -1164 \nQ 684 -1331 294 -1331 \nL -159 -1331 \nL -63 -850 \nL 269 -850 \nQ 509 -850 678 -719 \nQ 847 -588 1056 -206 \nL 1234 128 \nL 459 3500 \nL 1069 3500 \nL 1650 819 \nL 3256 3500 \nL 3859 3500 \nL 1588 -325 \nz\n\" transform=\"scale(0.015625)\"/>\n      </defs>\n      <use xlink:href=\"#DejaVuSans-Oblique-79\"/>\n      <use xlink:href=\"#DejaVuSans-20\" transform=\"translate(59.179688 0)\"/>\n      <use xlink:href=\"#DejaVuSans-6d\" transform=\"translate(90.966797 0)\"/>\n     </g>\n    </g>\n   </g>\n   <g id=\"patch_3\">\n    <path d=\"M 53.328125 253.44 \nL 53.328125 36 \n\" style=\"fill: none; stroke: #000000; stroke-width: 0.8; stroke-linejoin: miter; stroke-linecap: square\"/>\n   </g>\n   <g id=\"patch_4\">\n    <path d=\"M 388.128125 253.44 \nL 388.128125 36 \n\" style=\"fill: none; stroke: #000000; stroke-width: 0.8; stroke-linejoin: miter; stroke-linecap: square\"/>\n   </g>\n   <g id=\"patch_5\">\n    <path d=\"M 53.328125 253.44 \nL 388.128125 253.44 \n\" style=\"fill: none; stroke: #000000; stroke-width: 0.8; stroke-linejoin: miter; stroke-linecap: square\"/>\n   </g>\n   <g id=\"patch_6\">\n    <path d=\"M 53.328125 36 \nL 388.128125 36 \n\" style=\"fill: none; stroke: #000000; stroke-width: 0.8; stroke-linejoin: miter; stroke-linecap: square\"/>\n   </g>\n  </g>\n  <g id=\"text_15\">\n   <!-- Scatter plot of locations -->\n   <g transform=\"translate(143.744375 16.318125) scale(0.12 -0.12)\">\n    <defs>\n     <path id=\"DejaVuSans-53\" d=\"M 3425 4513 \nL 3425 3897 \nQ 3066 4069 2747 4153 \nQ 2428 4238 2131 4238 \nQ 1616 4238 1336 4038 \nQ 1056 3838 1056 3469 \nQ 1056 3159 1242 3001 \nQ 1428 2844 1947 2747 \nL 2328 2669 \nQ 3034 2534 3370 2195 \nQ 3706 1856 3706 1288 \nQ 3706 609 3251 259 \nQ 2797 -91 1919 -91 \nQ 1588 -91 1214 -16 \nQ 841 59 441 206 \nL 441 856 \nQ 825 641 1194 531 \nQ 1563 422 1919 422 \nQ 2459 422 2753 634 \nQ 3047 847 3047 1241 \nQ 3047 1584 2836 1778 \nQ 2625 1972 2144 2069 \nL 1759 2144 \nQ 1053 2284 737 2584 \nQ 422 2884 422 3419 \nQ 422 4038 858 4394 \nQ 1294 4750 2059 4750 \nQ 2388 4750 2728 4690 \nQ 3069 4631 3425 4513 \nz\n\" transform=\"scale(0.015625)\"/>\n     <path id=\"DejaVuSans-63\" d=\"M 3122 3366 \nL 3122 2828 \nQ 2878 2963 2633 3030 \nQ 2388 3097 2138 3097 \nQ 1578 3097 1268 2742 \nQ 959 2388 959 1747 \nQ 959 1106 1268 751 \nQ 1578 397 2138 397 \nQ 2388 397 2633 464 \nQ 2878 531 3122 666 \nL 3122 134 \nQ 2881 22 2623 -34 \nQ 2366 -91 2075 -91 \nQ 1284 -91 818 406 \nQ 353 903 353 1747 \nQ 353 2603 823 3093 \nQ 1294 3584 2113 3584 \nQ 2378 3584 2631 3529 \nQ 2884 3475 3122 3366 \nz\n\" transform=\"scale(0.015625)\"/>\n     <path id=\"DejaVuSans-61\" d=\"M 2194 1759 \nQ 1497 1759 1228 1600 \nQ 959 1441 959 1056 \nQ 959 750 1161 570 \nQ 1363 391 1709 391 \nQ 2188 391 2477 730 \nQ 2766 1069 2766 1631 \nL 2766 1759 \nL 2194 1759 \nz\nM 3341 1997 \nL 3341 0 \nL 2766 0 \nL 2766 531 \nQ 2569 213 2275 61 \nQ 1981 -91 1556 -91 \nQ 1019 -91 701 211 \nQ 384 513 384 1019 \nQ 384 1609 779 1909 \nQ 1175 2209 1959 2209 \nL 2766 2209 \nL 2766 2266 \nQ 2766 2663 2505 2880 \nQ 2244 3097 1772 3097 \nQ 1472 3097 1187 3025 \nQ 903 2953 641 2809 \nL 641 3341 \nQ 956 3463 1253 3523 \nQ 1550 3584 1831 3584 \nQ 2591 3584 2966 3190 \nQ 3341 2797 3341 1997 \nz\n\" transform=\"scale(0.015625)\"/>\n     <path id=\"DejaVuSans-74\" d=\"M 1172 4494 \nL 1172 3500 \nL 2356 3500 \nL 2356 3053 \nL 1172 3053 \nL 1172 1153 \nQ 1172 725 1289 603 \nQ 1406 481 1766 481 \nL 2356 481 \nL 2356 0 \nL 1766 0 \nQ 1100 0 847 248 \nQ 594 497 594 1153 \nL 594 3053 \nL 172 3053 \nL 172 3500 \nL 594 3500 \nL 594 4494 \nL 1172 4494 \nz\n\" transform=\"scale(0.015625)\"/>\n     <path id=\"DejaVuSans-65\" d=\"M 3597 1894 \nL 3597 1613 \nL 953 1613 \nQ 991 1019 1311 708 \nQ 1631 397 2203 397 \nQ 2534 397 2845 478 \nQ 3156 559 3463 722 \nL 3463 178 \nQ 3153 47 2828 -22 \nQ 2503 -91 2169 -91 \nQ 1331 -91 842 396 \nQ 353 884 353 1716 \nQ 353 2575 817 3079 \nQ 1281 3584 2069 3584 \nQ 2775 3584 3186 3129 \nQ 3597 2675 3597 1894 \nz\nM 3022 2063 \nQ 3016 2534 2758 2815 \nQ 2500 3097 2075 3097 \nQ 1594 3097 1305 2825 \nQ 1016 2553 972 2059 \nL 3022 2063 \nz\n\" transform=\"scale(0.015625)\"/>\n     <path id=\"DejaVuSans-72\" d=\"M 2631 2963 \nQ 2534 3019 2420 3045 \nQ 2306 3072 2169 3072 \nQ 1681 3072 1420 2755 \nQ 1159 2438 1159 1844 \nL 1159 0 \nL 581 0 \nL 581 3500 \nL 1159 3500 \nL 1159 2956 \nQ 1341 3275 1631 3429 \nQ 1922 3584 2338 3584 \nQ 2397 3584 2469 3576 \nQ 2541 3569 2628 3553 \nL 2631 2963 \nz\n\" transform=\"scale(0.015625)\"/>\n     <path id=\"DejaVuSans-70\" d=\"M 1159 525 \nL 1159 -1331 \nL 581 -1331 \nL 581 3500 \nL 1159 3500 \nL 1159 2969 \nQ 1341 3281 1617 3432 \nQ 1894 3584 2278 3584 \nQ 2916 3584 3314 3078 \nQ 3713 2572 3713 1747 \nQ 3713 922 3314 415 \nQ 2916 -91 2278 -91 \nQ 1894 -91 1617 61 \nQ 1341 213 1159 525 \nz\nM 3116 1747 \nQ 3116 2381 2855 2742 \nQ 2594 3103 2138 3103 \nQ 1681 3103 1420 2742 \nQ 1159 2381 1159 1747 \nQ 1159 1113 1420 752 \nQ 1681 391 2138 391 \nQ 2594 391 2855 752 \nQ 3116 1113 3116 1747 \nz\n\" transform=\"scale(0.015625)\"/>\n     <path id=\"DejaVuSans-6c\" d=\"M 603 4863 \nL 1178 4863 \nL 1178 0 \nL 603 0 \nL 603 4863 \nz\n\" transform=\"scale(0.015625)\"/>\n     <path id=\"DejaVuSans-6f\" d=\"M 1959 3097 \nQ 1497 3097 1228 2736 \nQ 959 2375 959 1747 \nQ 959 1119 1226 758 \nQ 1494 397 1959 397 \nQ 2419 397 2687 759 \nQ 2956 1122 2956 1747 \nQ 2956 2369 2687 2733 \nQ 2419 3097 1959 3097 \nz\nM 1959 3584 \nQ 2709 3584 3137 3096 \nQ 3566 2609 3566 1747 \nQ 3566 888 3137 398 \nQ 2709 -91 1959 -91 \nQ 1206 -91 779 398 \nQ 353 888 353 1747 \nQ 353 2609 779 3096 \nQ 1206 3584 1959 3584 \nz\n\" transform=\"scale(0.015625)\"/>\n     <path id=\"DejaVuSans-66\" d=\"M 2375 4863 \nL 2375 4384 \nL 1825 4384 \nQ 1516 4384 1395 4259 \nQ 1275 4134 1275 3809 \nL 1275 3500 \nL 2222 3500 \nL 2222 3053 \nL 1275 3053 \nL 1275 0 \nL 697 0 \nL 697 3053 \nL 147 3053 \nL 147 3500 \nL 697 3500 \nL 697 3744 \nQ 697 4328 969 4595 \nQ 1241 4863 1831 4863 \nL 2375 4863 \nz\n\" transform=\"scale(0.015625)\"/>\n     <path id=\"DejaVuSans-69\" d=\"M 603 3500 \nL 1178 3500 \nL 1178 0 \nL 603 0 \nL 603 3500 \nz\nM 603 4863 \nL 1178 4863 \nL 1178 4134 \nL 603 4134 \nL 603 4863 \nz\n\" transform=\"scale(0.015625)\"/>\n     <path id=\"DejaVuSans-6e\" d=\"M 3513 2113 \nL 3513 0 \nL 2938 0 \nL 2938 2094 \nQ 2938 2591 2744 2837 \nQ 2550 3084 2163 3084 \nQ 1697 3084 1428 2787 \nQ 1159 2491 1159 1978 \nL 1159 0 \nL 581 0 \nL 581 3500 \nL 1159 3500 \nL 1159 2956 \nQ 1366 3272 1645 3428 \nQ 1925 3584 2291 3584 \nQ 2894 3584 3203 3211 \nQ 3513 2838 3513 2113 \nz\n\" transform=\"scale(0.015625)\"/>\n     <path id=\"DejaVuSans-73\" d=\"M 2834 3397 \nL 2834 2853 \nQ 2591 2978 2328 3040 \nQ 2066 3103 1784 3103 \nQ 1356 3103 1142 2972 \nQ 928 2841 928 2578 \nQ 928 2378 1081 2264 \nQ 1234 2150 1697 2047 \nL 1894 2003 \nQ 2506 1872 2764 1633 \nQ 3022 1394 3022 966 \nQ 3022 478 2636 193 \nQ 2250 -91 1575 -91 \nQ 1294 -91 989 -36 \nQ 684 19 347 128 \nL 347 722 \nQ 666 556 975 473 \nQ 1284 391 1588 391 \nQ 1994 391 2212 530 \nQ 2431 669 2431 922 \nQ 2431 1156 2273 1281 \nQ 2116 1406 1581 1522 \nL 1381 1569 \nQ 847 1681 609 1914 \nQ 372 2147 372 2553 \nQ 372 3047 722 3315 \nQ 1072 3584 1716 3584 \nQ 2034 3584 2315 3537 \nQ 2597 3491 2834 3397 \nz\n\" transform=\"scale(0.015625)\"/>\n    </defs>\n    <use xlink:href=\"#DejaVuSans-53\"/>\n    <use xlink:href=\"#DejaVuSans-63\" x=\"63.476562\"/>\n    <use xlink:href=\"#DejaVuSans-61\" x=\"118.457031\"/>\n    <use xlink:href=\"#DejaVuSans-74\" x=\"179.736328\"/>\n    <use xlink:href=\"#DejaVuSans-74\" x=\"218.945312\"/>\n    <use xlink:href=\"#DejaVuSans-65\" x=\"258.154297\"/>\n    <use xlink:href=\"#DejaVuSans-72\" x=\"319.677734\"/>\n    <use xlink:href=\"#DejaVuSans-20\" x=\"360.791016\"/>\n    <use xlink:href=\"#DejaVuSans-70\" x=\"392.578125\"/>\n    <use xlink:href=\"#DejaVuSans-6c\" x=\"456.054688\"/>\n    <use xlink:href=\"#DejaVuSans-6f\" x=\"483.837891\"/>\n    <use xlink:href=\"#DejaVuSans-74\" x=\"545.019531\"/>\n    <use xlink:href=\"#DejaVuSans-20\" x=\"584.228516\"/>\n    <use xlink:href=\"#DejaVuSans-6f\" x=\"616.015625\"/>\n    <use xlink:href=\"#DejaVuSans-66\" x=\"677.197266\"/>\n    <use xlink:href=\"#DejaVuSans-20\" x=\"712.402344\"/>\n    <use xlink:href=\"#DejaVuSans-6c\" x=\"744.189453\"/>\n    <use xlink:href=\"#DejaVuSans-6f\" x=\"771.972656\"/>\n    <use xlink:href=\"#DejaVuSans-63\" x=\"833.154297\"/>\n    <use xlink:href=\"#DejaVuSans-61\" x=\"888.134766\"/>\n    <use xlink:href=\"#DejaVuSans-74\" x=\"949.414062\"/>\n    <use xlink:href=\"#DejaVuSans-69\" x=\"988.623047\"/>\n    <use xlink:href=\"#DejaVuSans-6f\" x=\"1016.40625\"/>\n    <use xlink:href=\"#DejaVuSans-6e\" x=\"1077.587891\"/>\n    <use xlink:href=\"#DejaVuSans-73\" x=\"1140.966797\"/>\n   </g>\n  </g>\n </g>\n <defs>\n  <clipPath id=\"p42a973d13c\">\n   <rect x=\"53.328125\" y=\"36\" width=\"334.8\" height=\"217.44\"/>\n  </clipPath>\n </defs>\n</svg>\n",
      "text/plain": [
       "<Figure size 432x288 with 1 Axes>"
      ]
     },
     "metadata": {
      "needs_background": "light"
     },
     "output_type": "display_data"
    }
   ],
   "source": [
    "locations = generate_data(plot_grid=True, seed=SEED)"
   ]
  },
  {
   "cell_type": "markdown",
   "metadata": {},
   "source": [
    "\n",
    "## Problem to Minimize\n",
    "\n",
    "We can define a network $G=(V,E)$ that is the location and route of the people to pickup where:\n",
    "\n",
    "$V={0,1,...,n}$ is a collection of nodes where $0$ represents the central location (start and endpoint).\n",
    "\n",
    "$E$ is the set of edges connecting each node: $e_{ij}=(i,j)$\n",
    "\n",
    "$K={1,2,...,|k|}$ is the number of vehicles available\n",
    "\n",
    "$d_i \\ge 0$ is the requied number of people to pickup $i$\n",
    "\n",
    "$Q \\ge 0$ is thte maxium vehicle capacity\n",
    "\n",
    "$c_{ij}$ is the _cost_ to travel along an edge $e_{ij}$, i.e the distance between two locations\n",
    "\n",
    "$x_{ij}^{k}$ is the decision variable about whether a route was chosen or not where $x_{ij}^{k}=1$ if the route was taken and $x_{ij}^{k}=0$ if the route was not taken\n",
    "\n",
    "**The goal is to minimize the total cost of travel (travel distance) of all vehicles**\n",
    "\n",
    "Consider the following:\n",
    "\n",
    "### Objective function\n",
    "(1) - $\\min \\sum_{k\\in K}\\sum_{(i,j)\\in E} c_{ij} x_{ij}^{k}$\n",
    "\n",
    "### Subject to:\n",
    "\n",
    "(2) - $\\sum_{k\\in K}\\sum_{i \\in V,i \\neq j} x_{ij}^{k} =1$ where $ \\forall j \\in V \t\\setminus \\{0\\}$ - (2)\n",
    "\n",
    "(3) - $\\sum_{j \\in V \\setminus \\{0\\}} x_{0j}^{k}=1$ where $ \\forall k \\in K$\n",
    "\n",
    "(4) - $\\sum_{i \\in V, i \\neq j} x_{ij}^{k} - \\sum_{i \\in V} x_{ij}^{k}=0$ where $\\forall j \\in V, \\forall k \\in K$\n",
    "\n",
    "(5) - $\\sum_{i \\in V} \\sum_{j in V \\ \\{0\\}, i \\neq j } q_{j}x_{ij}^{j} \\le Q$ where $\\forall k \\in K$\n",
    "\n",
    "(6) - $\\sum_{k \\in K} \\sum_{(i,j) \\in S, i \\neq j} x_{ij}^{k} \\le |S|-1$ where $S \\subseteq \\setminus \\{0\\}$\n",
    "\n",
    "(7) - $x_{ij}^{k} \\in \\{0,1\\}$ where $\\forall k \\in K, \\forall (i,j) \\in E$\n",
    "\n",
    "\n",
    "### Where\n",
    "\n",
    "**(1)** is the _objective function_, **(2)** is the constraint such that there can only be one visit per vehicle per location, **(3)** requires the vechicle to depart from the central location, **(4)** requires the number of vehicles entering and leaving the centeral location must be the same, **(5)** requires that the capacity of the vehicles at any give point cannot exceed the maximum vehicle capacity, **(6)** remove _subtrips_ for every point, **(7)** Decision variables must be either 0 or 1.\n",
    "\n"
   ]
  },
  {
   "cell_type": "markdown",
   "metadata": {},
   "source": [
    "## Minimization Problem"
   ]
  },
  {
   "cell_type": "code",
   "execution_count": 58,
   "metadata": {},
   "outputs": [],
   "source": [
    "for bus in range(1, VEHICLES + 1):\n",
    "    problem = generate_problem()\n",
    "    x = generate_x()\n",
    "    problem = add_objective_function(problem, x, locations)"
   ]
  },
  {
   "cell_type": "code",
   "execution_count": null,
   "metadata": {},
   "outputs": [],
   "source": []
  }
 ],
 "metadata": {
  "kernelspec": {
   "display_name": "Python 3.9.10 64-bit",
   "language": "python",
   "name": "python3"
  },
  "language_info": {
   "codemirror_mode": {
    "name": "ipython",
    "version": 3
   },
   "file_extension": ".py",
   "mimetype": "text/x-python",
   "name": "python",
   "nbconvert_exporter": "python",
   "pygments_lexer": "ipython3",
   "version": "3.9.10"
  },
  "orig_nbformat": 4,
  "vscode": {
   "interpreter": {
    "hash": "aee8b7b246df8f9039afb4144a1f6fd8d2ca17a180786b69acc140d282b71a49"
   }
  }
 },
 "nbformat": 4,
 "nbformat_minor": 2
}
